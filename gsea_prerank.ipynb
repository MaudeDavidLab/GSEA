{
 "cells": [
  {
   "cell_type": "code",
   "execution_count": 1,
   "id": "824268bd",
   "metadata": {},
   "outputs": [],
   "source": [
    "%matplotlib inline\n",
    "%config InlineBackend.figure_format='retina' # mac\n",
    "%load_ext autoreload\n",
    "%autoreload 2\n",
    "import pandas as pd\n",
    "import gseapy as gp\n",
    "import matplotlib.pyplot as plt"
   ]
  },
  {
   "cell_type": "markdown",
   "id": "04ca1cf1",
   "metadata": {},
   "source": [
    "METAGENOMES"
   ]
  },
  {
   "cell_type": "code",
   "execution_count": 16,
   "id": "d40786dd",
   "metadata": {},
   "outputs": [],
   "source": [
    "#reading in the ranked list for metagenomes\n",
    "rnk = pd.read_csv(\"./mtg_log2mean_ranklist.rnk\", header=None, sep=\",\")"
   ]
  },
  {
   "cell_type": "code",
   "execution_count": 3,
   "id": "2ffb0639",
   "metadata": {},
   "outputs": [],
   "source": [
    "#Process gmt into a dictionary\n",
    "\n",
    "with open('kegg_gene_set.gmt', 'r') as reader:\n",
    "    lines = reader.readlines()\n",
    "    \n",
    "d = {}\n",
    "for line in lines:\n",
    "    line = line.strip().split(\",\")\n",
    "    d[line[0]] = line[1:]"
   ]
  },
  {
   "cell_type": "code",
   "execution_count": 17,
   "id": "8814c49e",
   "metadata": {
    "scrolled": true
   },
   "outputs": [
    {
     "name": "stderr",
     "output_type": "stream",
     "text": [
      "2021-08-09 13:31:52,546 Parsing data files for GSEA.............................\n",
      "2021-08-09 13:32:03,967 0000 gene_sets have been filtered out when max_size=10000 and min_size=0\n",
      "2021-08-09 13:32:03,968 0448 gene_sets used for further statistical testing.....\n",
      "2021-08-09 13:32:03,970 Start to run GSEA...Might take a while..................\n",
      "2021-08-09 13:32:21,460 Start to generate gseapy reports, and produce figures...\n",
      "2021-08-09 13:32:38,637 Congratulations. GSEApy runs successfully................\n",
      "\n"
     ]
    }
   ],
   "source": [
    "#running prerank on the metagenomes file\n",
    "results = gp.prerank(rnk = rnk, gene_sets = d , permutation_num = 10, min_size = 0, max_size = 10000, verbose= True)"
   ]
  },
  {
   "cell_type": "code",
   "execution_count": 23,
   "id": "e36a28c0",
   "metadata": {
    "scrolled": true
   },
   "outputs": [
    {
     "data": {
      "text/html": [
       "<div>\n",
       "<style scoped>\n",
       "    .dataframe tbody tr th:only-of-type {\n",
       "        vertical-align: middle;\n",
       "    }\n",
       "\n",
       "    .dataframe tbody tr th {\n",
       "        vertical-align: top;\n",
       "    }\n",
       "\n",
       "    .dataframe thead th {\n",
       "        text-align: right;\n",
       "    }\n",
       "</style>\n",
       "<table border=\"1\" class=\"dataframe\">\n",
       "  <thead>\n",
       "    <tr style=\"text-align: right;\">\n",
       "      <th></th>\n",
       "      <th>es</th>\n",
       "      <th>nes</th>\n",
       "      <th>pval</th>\n",
       "      <th>fdr</th>\n",
       "      <th>geneset_size</th>\n",
       "      <th>matched_size</th>\n",
       "      <th>genes</th>\n",
       "      <th>ledge_genes</th>\n",
       "    </tr>\n",
       "    <tr>\n",
       "      <th>Term</th>\n",
       "      <th></th>\n",
       "      <th></th>\n",
       "      <th></th>\n",
       "      <th></th>\n",
       "      <th></th>\n",
       "      <th></th>\n",
       "      <th></th>\n",
       "      <th></th>\n",
       "    </tr>\n",
       "  </thead>\n",
       "  <tbody>\n",
       "    <tr>\n",
       "      <th>ko00010</th>\n",
       "      <td>-0.155002</td>\n",
       "      <td>inf</td>\n",
       "      <td>NaN</td>\n",
       "      <td>0.687844</td>\n",
       "      <td>106</td>\n",
       "      <td>79</td>\n",
       "      <td>K13810;K15916;K02753;K12957;K00138;K01007;K040...</td>\n",
       "      <td>K00627;K01624;K06859;K02791;K00172;K00134;K027...</td>\n",
       "    </tr>\n",
       "    <tr>\n",
       "      <th>ko00020</th>\n",
       "      <td>0.206607</td>\n",
       "      <td>0.644210</td>\n",
       "      <td>1.0</td>\n",
       "      <td>1.000000</td>\n",
       "      <td>62</td>\n",
       "      <td>48</td>\n",
       "      <td>K18118;K00242;K00116;K01682;K00247;K00163;K059...</td>\n",
       "      <td>K18118;K00242;K00116;K01682</td>\n",
       "    </tr>\n",
       "    <tr>\n",
       "      <th>ko00030</th>\n",
       "      <td>-0.283645</td>\n",
       "      <td>-1.045695</td>\n",
       "      <td>0.0</td>\n",
       "      <td>0.783306</td>\n",
       "      <td>85</td>\n",
       "      <td>58</td>\n",
       "      <td>K13810;K15916;K17464;K00117;K01690;K05774;K163...</td>\n",
       "      <td>K06151;K06152;K15779;K00131;K00852;K01057;K080...</td>\n",
       "    </tr>\n",
       "    <tr>\n",
       "      <th>ko00040</th>\n",
       "      <td>-0.314879</td>\n",
       "      <td>inf</td>\n",
       "      <td>NaN</td>\n",
       "      <td>0.687844</td>\n",
       "      <td>85</td>\n",
       "      <td>57</td>\n",
       "      <td>K19588;K21619;K22935;K00039;K14274;K18107;K017...</td>\n",
       "      <td>K22994;K00880;K03079;K00963;K22396;K00007;K221...</td>\n",
       "    </tr>\n",
       "    <tr>\n",
       "      <th>ko00051</th>\n",
       "      <td>-0.213812</td>\n",
       "      <td>-0.677972</td>\n",
       "      <td>1.0</td>\n",
       "      <td>1.000000</td>\n",
       "      <td>111</td>\n",
       "      <td>84</td>\n",
       "      <td>K00064;K15916;K12660;K19270;K07026;K00863;K008...</td>\n",
       "      <td>K15856;K00007;K18335;K18334;K18333;K18338;K07046</td>\n",
       "    </tr>\n",
       "  </tbody>\n",
       "</table>\n",
       "</div>"
      ],
      "text/plain": [
       "               es       nes  pval       fdr  geneset_size  matched_size  \\\n",
       "Term                                                                      \n",
       "ko00010 -0.155002       inf   NaN  0.687844           106            79   \n",
       "ko00020  0.206607  0.644210   1.0  1.000000            62            48   \n",
       "ko00030 -0.283645 -1.045695   0.0  0.783306            85            58   \n",
       "ko00040 -0.314879       inf   NaN  0.687844            85            57   \n",
       "ko00051 -0.213812 -0.677972   1.0  1.000000           111            84   \n",
       "\n",
       "                                                     genes  \\\n",
       "Term                                                         \n",
       "ko00010  K13810;K15916;K02753;K12957;K00138;K01007;K040...   \n",
       "ko00020  K18118;K00242;K00116;K01682;K00247;K00163;K059...   \n",
       "ko00030  K13810;K15916;K17464;K00117;K01690;K05774;K163...   \n",
       "ko00040  K19588;K21619;K22935;K00039;K14274;K18107;K017...   \n",
       "ko00051  K00064;K15916;K12660;K19270;K07026;K00863;K008...   \n",
       "\n",
       "                                               ledge_genes  \n",
       "Term                                                        \n",
       "ko00010  K00627;K01624;K06859;K02791;K00172;K00134;K027...  \n",
       "ko00020                        K18118;K00242;K00116;K01682  \n",
       "ko00030  K06151;K06152;K15779;K00131;K00852;K01057;K080...  \n",
       "ko00040  K22994;K00880;K03079;K00963;K22396;K00007;K221...  \n",
       "ko00051   K15856;K00007;K18335;K18334;K18333;K18338;K07046  "
      ]
     },
     "execution_count": 23,
     "metadata": {},
     "output_type": "execute_result"
    }
   ],
   "source": [
    "results.res2d.sort_index().head()"
   ]
  },
  {
   "cell_type": "code",
   "execution_count": 24,
   "id": "d0909938",
   "metadata": {},
   "outputs": [
    {
     "data": {
      "text/plain": [
       "Index(['ko00627', 'ko01054', 'ko04964', 'ko00970', 'ko00362', 'ko01040',\n",
       "       'ko00473', 'ko03320', 'ko05210', 'ko05226',\n",
       "       ...\n",
       "       'ko05016', 'ko05017', 'ko05020', 'ko05134', 'ko05143', 'ko05150',\n",
       "       'ko05166', 'ko05206', 'ko05208', 'ko05219'],\n",
       "      dtype='object', name='Term', length=448)"
      ]
     },
     "execution_count": 24,
     "metadata": {},
     "output_type": "execute_result"
    }
   ],
   "source": [
    "terms = results.res2d.index\n",
    "terms"
   ]
  },
  {
   "cell_type": "code",
   "execution_count": 25,
   "id": "0c3fa401",
   "metadata": {
    "scrolled": true
   },
   "outputs": [
    {
     "data": {
      "image/png": "[encoded data removed]",
      "text/plain": [
       "<Figure size 432x396 with 4 Axes>"
      ]
     },
     "metadata": {
      "image/png": {
       "height": 397,
       "width": 406
      },
      "needs_background": "light"
     },
     "output_type": "display_data"
    }
   ],
   "source": [
    "from gseapy.plot import gseaplot,heatmap\n",
    "\n",
    "# to save your figure, make sure that ofname is not None\n",
    "gseaplot(rank_metric=results.ranking, term=terms[0], **results.results[terms[0]])"
   ]
  },
  {
   "cell_type": "markdown",
   "id": "7311c337",
   "metadata": {},
   "source": [
    "METATRANSCIPTOMES"
   ]
  },
  {
   "cell_type": "code",
   "execution_count": 14,
   "id": "de7b822f",
   "metadata": {},
   "outputs": [
    {
     "data": {
      "text/html": [
       "<div>\n",
       "<style scoped>\n",
       "    .dataframe tbody tr th:only-of-type {\n",
       "        vertical-align: middle;\n",
       "    }\n",
       "\n",
       "    .dataframe tbody tr th {\n",
       "        vertical-align: top;\n",
       "    }\n",
       "\n",
       "    .dataframe thead th {\n",
       "        text-align: right;\n",
       "    }\n",
       "</style>\n",
       "<table border=\"1\" class=\"dataframe\">\n",
       "  <thead>\n",
       "    <tr style=\"text-align: right;\">\n",
       "      <th></th>\n",
       "      <th>0</th>\n",
       "      <th>1</th>\n",
       "    </tr>\n",
       "  </thead>\n",
       "  <tbody>\n",
       "    <tr>\n",
       "      <th>0</th>\n",
       "      <td>K00001</td>\n",
       "      <td>-0.130535</td>\n",
       "    </tr>\n",
       "    <tr>\n",
       "      <th>1</th>\n",
       "      <td>K00002</td>\n",
       "      <td>0.748205</td>\n",
       "    </tr>\n",
       "    <tr>\n",
       "      <th>2</th>\n",
       "      <td>K00003</td>\n",
       "      <td>0.311635</td>\n",
       "    </tr>\n",
       "    <tr>\n",
       "      <th>3</th>\n",
       "      <td>K00004</td>\n",
       "      <td>0.617569</td>\n",
       "    </tr>\n",
       "    <tr>\n",
       "      <th>4</th>\n",
       "      <td>K00005</td>\n",
       "      <td>0.140903</td>\n",
       "    </tr>\n",
       "  </tbody>\n",
       "</table>\n",
       "</div>"
      ],
      "text/plain": [
       "        0         1\n",
       "0  K00001 -0.130535\n",
       "1  K00002  0.748205\n",
       "2  K00003  0.311635\n",
       "3  K00004  0.617569\n",
       "4  K00005  0.140903"
      ]
     },
     "execution_count": 14,
     "metadata": {},
     "output_type": "execute_result"
    }
   ],
   "source": [
    "#reading the ranked file for the metatranscriptomes\n",
    "rank = pd.read_csv(\"./mtt_log2mean_ranklist.rnk\", header=None, sep=\",\")\n",
    "rank.head()"
   ]
  },
  {
   "cell_type": "code",
   "execution_count": 18,
   "id": "ac6e1551",
   "metadata": {},
   "outputs": [
    {
     "name": "stderr",
     "output_type": "stream",
     "text": [
      "2021-08-09 13:32:58,601 Parsing data files for GSEA.............................\n",
      "2021-08-09 13:33:12,988 0000 gene_sets have been filtered out when max_size=10000 and min_size=0\n",
      "2021-08-09 13:33:12,988 0448 gene_sets used for further statistical testing.....\n",
      "2021-08-09 13:33:12,988 Start to run GSEA...Might take a while..................\n",
      "2021-08-09 13:33:28,873 Start to generate gseapy reports, and produce figures...\n",
      "2021-08-09 13:33:48,830 Congratulations. GSEApy runs successfully................\n",
      "\n"
     ]
    }
   ],
   "source": [
    "#running prerank on the metranscriptomes file\n",
    "results2 = gp.prerank(rnk = rank, gene_sets = d, permutation_num = 10, min_size = 0, max_size = 10000, verbose= True, outdir = \"metatranscriptomes/kegg_test_reports\")"
   ]
  },
  {
   "cell_type": "code",
   "execution_count": 19,
   "id": "ae9a22f3",
   "metadata": {},
   "outputs": [
    {
     "data": {
      "text/html": [
       "<div>\n",
       "<style scoped>\n",
       "    .dataframe tbody tr th:only-of-type {\n",
       "        vertical-align: middle;\n",
       "    }\n",
       "\n",
       "    .dataframe tbody tr th {\n",
       "        vertical-align: top;\n",
       "    }\n",
       "\n",
       "    .dataframe thead th {\n",
       "        text-align: right;\n",
       "    }\n",
       "</style>\n",
       "<table border=\"1\" class=\"dataframe\">\n",
       "  <thead>\n",
       "    <tr style=\"text-align: right;\">\n",
       "      <th></th>\n",
       "      <th>es</th>\n",
       "      <th>nes</th>\n",
       "      <th>pval</th>\n",
       "      <th>fdr</th>\n",
       "      <th>geneset_size</th>\n",
       "      <th>matched_size</th>\n",
       "      <th>genes</th>\n",
       "      <th>ledge_genes</th>\n",
       "    </tr>\n",
       "    <tr>\n",
       "      <th>Term</th>\n",
       "      <th></th>\n",
       "      <th></th>\n",
       "      <th></th>\n",
       "      <th></th>\n",
       "      <th></th>\n",
       "      <th></th>\n",
       "      <th></th>\n",
       "      <th></th>\n",
       "    </tr>\n",
       "  </thead>\n",
       "  <tbody>\n",
       "    <tr>\n",
       "      <th>ko00010</th>\n",
       "      <td>0.181477</td>\n",
       "      <td>0.760780</td>\n",
       "      <td>1.0</td>\n",
       "      <td>0.959952</td>\n",
       "      <td>106</td>\n",
       "      <td>77</td>\n",
       "      <td>K22224;K16306;K02753;K00002;K02791;K06859;K157...</td>\n",
       "      <td>K22224;K16306;K02753;K00002;K02791;K06859;K157...</td>\n",
       "    </tr>\n",
       "    <tr>\n",
       "      <th>ko00020</th>\n",
       "      <td>-0.501819</td>\n",
       "      <td>-1.563174</td>\n",
       "      <td>0.0</td>\n",
       "      <td>0.030643</td>\n",
       "      <td>62</td>\n",
       "      <td>54</td>\n",
       "      <td>K00242;K05942;K01959;K01616;K00170;K01958;K001...</td>\n",
       "      <td>K00246;K00245;K00236;K15230;K01596;K00161;K001...</td>\n",
       "    </tr>\n",
       "    <tr>\n",
       "      <th>ko00030</th>\n",
       "      <td>0.331569</td>\n",
       "      <td>1.005590</td>\n",
       "      <td>0.0</td>\n",
       "      <td>0.879681</td>\n",
       "      <td>85</td>\n",
       "      <td>53</td>\n",
       "      <td>K01053;K00117;K16306;K19813;K13812;K06859;K157...</td>\n",
       "      <td>K01053;K00117;K16306;K19813;K13812;K06859;K157...</td>\n",
       "    </tr>\n",
       "    <tr>\n",
       "      <th>ko00040</th>\n",
       "      <td>0.337764</td>\n",
       "      <td>1.235918</td>\n",
       "      <td>0.0</td>\n",
       "      <td>0.647771</td>\n",
       "      <td>85</td>\n",
       "      <td>52</td>\n",
       "      <td>K22186;K13877;K22185;K22397;K21681;K00002;K008...</td>\n",
       "      <td>K22186;K13877;K22185;K22397;K21681;K00002;K008...</td>\n",
       "    </tr>\n",
       "    <tr>\n",
       "      <th>ko00051</th>\n",
       "      <td>0.247095</td>\n",
       "      <td>0.913058</td>\n",
       "      <td>0.5</td>\n",
       "      <td>0.945647</td>\n",
       "      <td>111</td>\n",
       "      <td>82</td>\n",
       "      <td>K18334;K16881;K12660;K16306;K18333;K01729;K008...</td>\n",
       "      <td>K18334;K16881;K12660;K16306;K18333;K01729;K008...</td>\n",
       "    </tr>\n",
       "  </tbody>\n",
       "</table>\n",
       "</div>"
      ],
      "text/plain": [
       "               es       nes  pval       fdr  geneset_size  matched_size  \\\n",
       "Term                                                                      \n",
       "ko00010  0.181477  0.760780   1.0  0.959952           106            77   \n",
       "ko00020 -0.501819 -1.563174   0.0  0.030643            62            54   \n",
       "ko00030  0.331569  1.005590   0.0  0.879681            85            53   \n",
       "ko00040  0.337764  1.235918   0.0  0.647771            85            52   \n",
       "ko00051  0.247095  0.913058   0.5  0.945647           111            82   \n",
       "\n",
       "                                                     genes  \\\n",
       "Term                                                         \n",
       "ko00010  K22224;K16306;K02753;K00002;K02791;K06859;K157...   \n",
       "ko00020  K00242;K05942;K01959;K01616;K00170;K01958;K001...   \n",
       "ko00030  K01053;K00117;K16306;K19813;K13812;K06859;K157...   \n",
       "ko00040  K22186;K13877;K22185;K22397;K21681;K00002;K008...   \n",
       "ko00051  K18334;K16881;K12660;K16306;K18333;K01729;K008...   \n",
       "\n",
       "                                               ledge_genes  \n",
       "Term                                                        \n",
       "ko00010  K22224;K16306;K02753;K00002;K02791;K06859;K157...  \n",
       "ko00020  K00246;K00245;K00236;K15230;K01596;K00161;K001...  \n",
       "ko00030  K01053;K00117;K16306;K19813;K13812;K06859;K157...  \n",
       "ko00040  K22186;K13877;K22185;K22397;K21681;K00002;K008...  \n",
       "ko00051  K18334;K16881;K12660;K16306;K18333;K01729;K008...  "
      ]
     },
     "execution_count": 19,
     "metadata": {},
     "output_type": "execute_result"
    }
   ],
   "source": [
    "#results after running prerank\n",
    "results2.res2d.sort_index().head()"
   ]
  },
  {
   "cell_type": "code",
   "execution_count": 20,
   "id": "3a69a753",
   "metadata": {},
   "outputs": [
    {
     "data": {
      "text/plain": [
       "Index(['ko00195', 'ko03010', 'ko03015', 'ko03040', 'ko03050', 'ko04011',\n",
       "       'ko04024', 'ko04071', 'ko04111', 'ko04113',\n",
       "       ...\n",
       "       'ko04950', 'ko05144', 'ko05310', 'ko05320', 'ko05321', 'ko05330',\n",
       "       'ko05332', 'ko00361', 'ko00460', 'ko00471'],\n",
       "      dtype='object', name='Term', length=448)"
      ]
     },
     "execution_count": 20,
     "metadata": {},
     "output_type": "execute_result"
    }
   ],
   "source": [
    "#enriched cohorts for metranscriptomes\n",
    "terms_trans = results2.res2d.index\n",
    "terms_trans"
   ]
  }
 ],
 "metadata": {
  "kernelspec": {
   "display_name": "Python 3",
   "language": "python",
   "name": "python3"
  },
  "language_info": {
   "codemirror_mode": {
    "name": "ipython",
    "version": 3
   },
   "file_extension": ".py",
   "mimetype": "text/x-python",
   "name": "python",
   "nbconvert_exporter": "python",
   "pygments_lexer": "ipython3",
   "version": "3.9.1"
  }
 },
 "nbformat": 4,
 "nbformat_minor": 5
}
